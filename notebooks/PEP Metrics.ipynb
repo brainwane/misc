{
 "cells": [
  {
   "cell_type": "code",
   "execution_count": 1,
   "metadata": {
    "collapsed": false
   },
   "outputs": [],
   "source": [
    "import datetime\n",
    "import pandas\n",
    "import pathlib\n",
    "from email.parser import HeaderParser"
   ]
  },
  {
   "cell_type": "code",
   "execution_count": 2,
   "metadata": {
    "collapsed": false
   },
   "outputs": [
    {
     "name": "stdout",
     "output_type": "stream",
     "text": [
      "2017-11-25 06:47:08.387126\n"
     ]
    }
   ],
   "source": [
    "PEP_DIR = pathlib.Path.home() / \"devel/peps\"\n",
    "_header_parser = HeaderParser()\n",
    "print(datetime.datetime.utcnow())"
   ]
  },
  {
   "cell_type": "code",
   "execution_count": 3,
   "metadata": {
    "collapsed": false
   },
   "outputs": [],
   "source": [
    "import re\n",
    "def _get_names_for_field(value):\n",
    "    # Gets a list of names for the BDFL-Delegate or Author field\n",
    "    lines = value.splitlines()\n",
    "    entries = []\n",
    "    for line in lines:\n",
    "        entries.extend(line.split(\",\"))\n",
    "    names = []\n",
    "    for entry in entries:\n",
    "        entry = entry.strip().strip(',').strip()\n",
    "        # Strip \"name <email address>\" email addresses\n",
    "        entry = re.sub(\" <.*?>\", \"\", entry)\n",
    "        # Strip \"email address (name)\" email addresses\n",
    "        entry = re.sub(r\"[^@]+?@.*? \\((.*?)\\)\", r\"\\1\", entry)\n",
    "        if entry:\n",
    "            names.append(entry)\n",
    "    return names\n",
    "\n",
    "def extract_headers(pep):   \n",
    "    headers = {field.lower().replace(\"-\", \"_\"):value for field, value in pep.items()}\n",
    "    # First normalise BDFL delegate, and handle co-delegates\n",
    "    bdfl_delegate = headers.get(\"bdfl_delegate\")\n",
    "    headers_by_bdfl_delegate = []\n",
    "    if bdfl_delegate is not None:\n",
    "        delegate_names = _get_names_for_field(bdfl_delegate)\n",
    "        for delegate in delegate_names:\n",
    "            delegate_headers = headers.copy()\n",
    "            delegate_headers[\"bdfl_delegate\"] = delegate\n",
    "            headers_by_bdfl_delegate.append(delegate_headers)\n",
    "    else:\n",
    "        headers_by_bdfl_delegate.append(headers)\n",
    "        \n",
    "    authors = _get_names_for_field(headers[\"author\"])\n",
    "    headers_by_author = []\n",
    "    for delegate_headers in headers_by_bdfl_delegate:\n",
    "        for author in authors:\n",
    "            author_headers = delegate_headers.copy()\n",
    "            author_headers[\"author\"] = author\n",
    "            headers_by_author.append(author_headers)\n",
    "    return headers_by_author\n",
    "\n",
    "# With credit to http://beneathdata.com/how-to/email-behavior-analysis/\n",
    "pep_headers = [_header_parser.parse(pep.open()) for pep in PEP_DIR.glob(\"*.txt\") if not pep.name.endswith(\"0000.txt\")]\n",
    "all_peps = pandas.DataFrame(header_set for pep in pep_headers for header_set in extract_headers(pep))\n",
    "final_or_active_peps = all_peps.query(\"status in ['Final', 'Active']\")"
   ]
  },
  {
   "cell_type": "code",
   "execution_count": 4,
   "metadata": {
    "collapsed": false
   },
   "outputs": [
    {
     "name": "stdout",
     "output_type": "stream",
     "text": [
      "All PEPs: 428\n",
      "All PEPs authored or co-authored by Guido: 40\n",
      "All PEPs authored or co-authored by me: 41\n",
      "All PEPs with BDFL-Delegate: 49\n",
      "All PEPs delegated to me: 27\n"
     ]
    }
   ],
   "source": [
    "def print_metrics(pep_data, prefix = \"All\"):\n",
    "    print(prefix + \" PEPs:\", pep_data.pep.nunique())\n",
    "    print(prefix + \" PEPs authored or co-authored by Guido:\", pep_data.author.value_counts()[\"Guido van Rossum\"])\n",
    "    print(prefix + \" PEPs authored or co-authored by me:\", pep_data.author.value_counts()[\"Nick Coghlan\"])\n",
    "    with_delegate = pep_data[pep_data[\"bdfl_delegate\"].notnull()]\n",
    "    print(prefix + \" PEPs with BDFL-Delegate:\", with_delegate.pep.nunique())\n",
    "    print(prefix + \" PEPs delegated to me:\", with_delegate.bdfl_delegate.value_counts()[\"Nick Coghlan\"])\n",
    "\n",
    "print_metrics(all_peps)"
   ]
  },
  {
   "cell_type": "code",
   "execution_count": 5,
   "metadata": {
    "collapsed": false
   },
   "outputs": [
    {
     "name": "stdout",
     "output_type": "stream",
     "text": [
      "Final or Active PEPs: 221\n",
      "Final or Active PEPs authored or co-authored by Guido: 31\n",
      "Final or Active PEPs authored or co-authored by me: 15\n",
      "Final or Active PEPs with BDFL-Delegate: 23\n",
      "Final or Active PEPs delegated to me: 9\n"
     ]
    }
   ],
   "source": [
    "print_metrics(final_or_active_peps, \"Final or Active\")"
   ]
  },
  {
   "cell_type": "code",
   "execution_count": 6,
   "metadata": {
    "collapsed": false
   },
   "outputs": [
    {
     "data": {
      "text/plain": [
       "Nick Coghlan               27\n",
       "Richard Jones              12\n",
       "Donald Stufft               6\n",
       "Barry Warsaw                6\n",
       "Benjamin Peterson           5\n",
       "Antoine Pitrou              4\n",
       "Mark Shannon                3\n",
       "Eric Snow                   3\n",
       "INADA Naoki                 2\n",
       "Martin von Löwis            2\n",
       "Paul Moore                  2\n",
       "Raymond Hettinger           1\n",
       "Georg Brandl                1\n",
       "Victor Stinner              1\n",
       "Charles-François Natali     1\n",
       "Brett Cannon                1\n",
       "Name: bdfl_delegate, dtype: int64"
      ]
     },
     "execution_count": 6,
     "metadata": {},
     "output_type": "execute_result"
    }
   ],
   "source": [
    "has_bdfl_delegate = all_peps[\"bdfl_delegate\"].notnull()\n",
    "all_peps[has_bdfl_delegate].bdfl_delegate.value_counts()"
   ]
  },
  {
   "cell_type": "code",
   "execution_count": 7,
   "metadata": {
    "collapsed": false
   },
   "outputs": [
    {
     "data": {
      "text/plain": [
       "Guido van Rossum                             31\n",
       "Barry Warsaw                                 20\n",
       "Nick Coghlan                                 15\n",
       "Brett Cannon                                 15\n",
       "Raymond Hettinger                             9\n",
       "Victor Stinner                                8\n",
       "Georg Brandl                                  8\n",
       "Martin von Löwis                              8\n",
       "Tim Peters                                    7\n",
       "Marc-André Lemburg                            6\n",
       "Antoine Pitrou                                6\n",
       "A.M. Kuchling                                 5\n",
       "Eric Snow                                     5\n",
       "Martin v. Löwis                               4\n",
       "Talin                                         4\n",
       "Ka-Ping Yee                                   4\n",
       "Jeremy Hylton                                 4\n",
       "Yury Selivanov                                4\n",
       "Anthony Baxter                                4\n",
       "Paul Moore                                    4\n",
       "Collin Winter                                 4\n",
       "Ethan Furman                                  3\n",
       "Steve Dower                                   3\n",
       "Neil Schemenauer                              3\n",
       "Larry Hastings                                3\n",
       "Neal Norwitz                                  3\n",
       "David Goodger                                 3\n",
       "Benjamin Peterson                             3\n",
       "Moshe Zadka                                   3\n",
       "Jesse Noller                                  2\n",
       "                                             ..\n",
       "Martijn Faassen                               1\n",
       "Kevin Altis                                   1\n",
       "Terry Reedy                                   1\n",
       "Mark Shannon                                  1\n",
       "Inada Naoki                                   1\n",
       "Steven D'Aprano                               1\n",
       "Dave Cole                                     1\n",
       "Neil Hodgson                                  1\n",
       "Joshua Landau                                 1\n",
       "Serhiy Storchaka                              1\n",
       "Tony Lownds                                   1\n",
       "Robert Kuska                                  1\n",
       "Trent Mick                                    1\n",
       "Gregory Ewing                                 1\n",
       "Christian R. Reis                             1\n",
       "Jason Orendorff                               1\n",
       "Carl Banks                                    1\n",
       "Cliff Wells                                   1\n",
       "Ivan Levkivskyi                               1\n",
       "Daniel Stutzbach                              1\n",
       "Andrew McNamara                               1\n",
       "Mike Verdone                                  1\n",
       "Robert T. McGibbon                            1\n",
       "Michael Hudson                                1\n",
       "P.J. Eby                                      1\n",
       "Alexander Belopolsky                          1\n",
       "Brian Quinlan                                 1\n",
       "Alexandre Vassalotti                          1\n",
       "vinay_sajip at red-dove.com (Vinay Sajip)     1\n",
       "Magnus Lie Hetland                            1\n",
       "Name: author, Length: 125, dtype: int64"
      ]
     },
     "execution_count": 7,
     "metadata": {},
     "output_type": "execute_result"
    }
   ],
   "source": [
    "final_or_active_peps.author.value_counts()"
   ]
  },
  {
   "cell_type": "code",
   "execution_count": 8,
   "metadata": {
    "collapsed": true
   },
   "outputs": [],
   "source": [
    "withdrawn_or_deferred_peps = all_peps.query(\"status in ['Withdrawn', 'Deferred']\")"
   ]
  },
  {
   "cell_type": "code",
   "execution_count": 9,
   "metadata": {
    "collapsed": false
   },
   "outputs": [
    {
     "data": {
      "text/plain": [
       "Nick Coghlan                            16\n",
       "Barry Warsaw                             4\n",
       "A.M. Kuchling                            4\n",
       "Antoine Pitrou                           2\n",
       "Georg Brandl                             2\n",
       "Guido van Rossum                         2\n",
       "Jeremy Hylton                            2\n",
       "Skip Montanaro                           2\n",
       "Donald Stufft                            2\n",
       "Alex Martelli                            2\n",
       "Paul Prescod                             2\n",
       "Reid Kleckner                            1\n",
       "Phillip J. Eby                           1\n",
       "Sean Reifschneider                       1\n",
       "Benoit Bryon                             1\n",
       "Jack Diederich                           1\n",
       "Victor Stinner                           1\n",
       "Martin von Löwis                         1\n",
       "Ben Finney                               1\n",
       "Chris McDonough                          1\n",
       "Clark C. Evans                           1\n",
       "Armin Ronacher                           1\n",
       "Jervis Whitley                           1\n",
       "Collin Winter                            1\n",
       "Travis Oliphant                          1\n",
       "Michael P. Dubner                        1\n",
       "Michael Hudson                           1\n",
       "Paul Barrett                             1\n",
       "Steven Bethard                           1\n",
       "Greg Slodkowicz                          1\n",
       "Brett Cannon                             1\n",
       "Thomas Heller                            1\n",
       "Lennart Regebro                          1\n",
       "Charles R. McCreary                      1\n",
       "Paul Colomiets                           1\n",
       "Roman Suzi                               1\n",
       "Benjamin Peterson                        1\n",
       "xscottg at yahoo.com (Scott Gilbert)     1\n",
       "Oleg Broytman                            1\n",
       "Gordon McMillan                          1\n",
       "Lino Mastrodomenico                      1\n",
       "Neil Schemenauer                         1\n",
       "Jeffrey Yasskin                          1\n",
       "Daniel Holth                             1\n",
       "Raymond Hettinger                        1\n",
       "Daniel Urban                             1\n",
       "(James) Eric Pruitt                      1\n",
       "Moshe Zadka                              1\n",
       "Nathaniel J. Smith                       1\n",
       "Jonathan Riehl                           1\n",
       "Christian Heimes                         1\n",
       "Josiah Carlson                           1\n",
       "Terence Way                              1\n",
       "Name: author, dtype: int64"
      ]
     },
     "execution_count": 9,
     "metadata": {},
     "output_type": "execute_result"
    }
   ],
   "source": [
    "withdrawn_or_deferred_peps.author.value_counts()"
   ]
  },
  {
   "cell_type": "code",
   "execution_count": null,
   "metadata": {
    "collapsed": true
   },
   "outputs": [],
   "source": []
  }
 ],
 "metadata": {
  "kernelspec": {
   "display_name": "Python 3",
   "language": "python",
   "name": "python3"
  },
  "language_info": {
   "codemirror_mode": {
    "name": "ipython",
    "version": 3
   },
   "file_extension": ".py",
   "mimetype": "text/x-python",
   "name": "python",
   "nbconvert_exporter": "python",
   "pygments_lexer": "ipython3",
   "version": "3.6.3"
  }
 },
 "nbformat": 4,
 "nbformat_minor": 1
}
